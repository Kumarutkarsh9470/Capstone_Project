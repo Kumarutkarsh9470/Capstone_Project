{
  "nbformat": 4,
  "nbformat_minor": 0,
  "metadata": {
    "colab": {
      "provenance": []
    },
    "kernelspec": {
      "name": "python3",
      "display_name": "Python 3"
    },
    "language_info": {
      "name": "python"
    }
  },
  "cells": [
    {
      "cell_type": "code",
      "source": [
        "# 0. Dataset Path Configuration\n",
        "# ---\n",
        "import os\n",
        "# If a 'dataset.csv' file exists in the working directory (e.g. evaluated in GitHub Actions or Colab), use it.\n",
        "if os.path.exists('dataset.csv'):\n",
        "    DATA_PATH = 'dataset.csv'\n",
        "    print(f\"Found local dataset at {DATA_PATH}\")"
      ],
      "metadata": {
        "id": "iPvOyzcOeX5P"
      },
      "execution_count": null,
      "outputs": []
    },
    {
      "cell_type": "code",
      "source": [
        "!pip install pathway bokeh panel pandas numpy scikit-learn matplotlib --quiet\n"
      ],
      "metadata": {
        "id": "cMNJ9PJ_elQV"
      },
      "execution_count": null,
      "outputs": []
    },
    {
      "cell_type": "code",
      "source": [
        "import numpy as np\n",
        "import pandas as pd\n",
        "import matplotlib.pyplot as plt\n",
        "import pathway as pw\n",
        "import bokeh.plotting as bkp\n",
        "import panel as pn\n",
        "\n",
        "from datetime import timedelta\n",
        "from sklearn.preprocessing import OneHotEncoder\n"
      ],
      "metadata": {
        "id": "YrYcdZB6e043"
      },
      "execution_count": null,
      "outputs": []
    },
    {
      "cell_type": "code",
      "source": [
        "pn.extension('bokeh')"
      ],
      "metadata": {
        "id": "428yQspPe4QO"
      },
      "execution_count": null,
      "outputs": []
    },
    {
      "cell_type": "code",
      "source": [
        "# ---\n",
        "# 2. Load and Prepare Data\n",
        "# ---\n",
        "def load_and_prepare(path):\n",
        "    df = pd.read_csv(path)\n",
        "    # Combine date/time into Timestamp\n",
        "    if 'LastUpdatedDate' in df.columns and 'LastUpdatedTime' in df.columns:\n",
        "        df['Timestamp'] = pd.to_datetime(\n",
        "            df['LastUpdatedDate'] + ' ' + df['LastUpdatedTime'],\n",
        "            format='%d-%m-%Y %H:%M:%S'\n",
        "        )\n",
        "    elif 'timestamp' in df.columns:\n",
        "        df['Timestamp'] = pd.to_datetime(df['timestamp'])\n",
        "    else:\n",
        "        raise ValueError(\"No timestamp columns found.\")\n",
        "    df = df.sort_values('Timestamp').reset_index(drop=True)\n",
        "    return df\n",
        "\n",
        "# Load\n",
        "df = load_and_prepare(DATA_PATH)\n",
        "print(df.shape)\n",
        "df.head()"
      ],
      "metadata": {
        "id": "MbR1lqjse8B7"
      },
      "execution_count": null,
      "outputs": []
    },
    {
      "cell_type": "code",
      "source": [
        "# ---\n",
        "# 3. Extensive EDA\n",
        "# ---\n",
        "# 3.1 Missing Values\n",
        "print(df.isnull().sum())\n",
        "\n",
        "# 3.2 Descriptive Stats\n",
        "display(df.describe(include='all'))\n",
        "\n",
        "# 3.3 Temporal Trend: Occupancy Ratio\n",
        "plt.figure(figsize=(10,4))\n",
        "plt.scatter(df['Timestamp'], df['Occupancy']/df['Capacity'], alpha=0.3)\n",
        "plt.title('Occupancy Ratio Over Time')\n",
        "plt.xlabel('Time'); plt.ylabel('Occupancy Ratio')\n",
        "plt.show()\n",
        "\n",
        "# 3.4 Spatial Plot\n",
        "if {'Latitude','Longitude'}.issubset(df.columns):\n",
        "    plt.figure(figsize=(6,6))\n",
        "    sc = plt.scatter(df['Longitude'], df['Latitude'],\n",
        "                     c=df['Occupancy']/df['Capacity'], cmap='viridis')\n",
        "    plt.colorbar(sc, label='Occupancy Ratio')\n",
        "    plt.title('Spatial Occupancy Ratio')\n",
        "    plt.show()\n",
        "\n",
        "# 3.5 Correlation Matrix\n",
        "num_cols = df.select_dtypes(include=[np.number])\n",
        "corr = num_cols.corr()\n",
        "display(corr)\n"
      ],
      "metadata": {
        "id": "dUAqyF6dfEBL"
      },
      "execution_count": null,
      "outputs": []
    },
    {
      "cell_type": "code",
      "source": [
        "# ---\n",
        "# 4. Feature Engineering\n",
        "# ---\n",
        "def engineer_features(df):\n",
        "    df2 = df.copy()\n",
        "    df2['occ_ratio'] = df2['Occupancy'] / df2['Capacity']\n",
        "    df2['occ_roll3'] = df2['occ_ratio'].rolling(3, min_periods=1).mean()\n",
        "    if 'SpecialDay' in df2.columns:\n",
        "        df2['is_special'] = df2['SpecialDay'].astype(int)\n",
        "    if 'VehicleType' in df2.columns:\n",
        "        enc = OneHotEncoder(sparse_output=False, drop='first')\n",
        "        arr = enc.fit_transform(df2[['VehicleType']])\n",
        "        cols = enc.get_feature_names_out(['VehicleType'])\n",
        "        df2[cols] = arr\n",
        "    return df2\n",
        "\n",
        "# Apply\n",
        "df_feat = engineer_features(df)\n",
        "df_feat.head()"
      ],
      "metadata": {
        "id": "laMfW8pjfLk2"
      },
      "execution_count": null,
      "outputs": []
    },
    {
      "cell_type": "code",
      "source": [
        "# ---\n",
        "# 5. Model 1: Baseline Linear Pricing\n",
        "# ---\n",
        "def model_baseline(df, alpha=0.1, base_price=10.0):\n",
        "    df2 = df.copy().reset_index(drop=True)\n",
        "    df2['price_baseline'] = base_price\n",
        "    for i in range(1, len(df2)):\n",
        "        df2.loc[i, 'price_baseline'] = (\n",
        "            df2.loc[i-1, 'price_baseline'] + alpha * df2.loc[i, 'occ_ratio']\n",
        "        )\n",
        "    return df2\n",
        "\n",
        "df_base = model_baseline(df_feat)\n",
        "\n",
        "df_base[['Timestamp','price_baseline']].head()\n",
        "\n",
        "# ---\n",
        "# 6. Model 2: Demand‑Based Pricing\n",
        "# ---\n",
        "def model_demand(df, coeffs, base_price=10.0, λ=1.0):\n",
        "    df2 = df.copy()\n",
        "    d = coeffs['α'] * df2['occ_ratio']\n",
        "    if 'QueueLength' in df2: d += coeffs['β'] * df2['QueueLength']\n",
        "    if 'TrafficLevel' in df2: d += coeffs['γ'] * df2['TrafficLevel']\n",
        "    if 'is_special' in df2:   d += coeffs['δ'] * df2['is_special']\n",
        "    dn = (d - d.min()) / (d.max() - d.min() + 1e-6)\n",
        "    df2['price_demand'] = base_price * (1 + λ * dn)\n",
        "    return df2\n",
        "\n",
        "coeffs = {'α':1.0,'β':0.5,'γ':0.2,'δ':0.3}\n",
        "df_demand = model_demand(df_feat, coeffs)\n",
        "\n",
        "df_demand[['Timestamp','price_demand']].head()\n",
        "\n",
        "# ---\n",
        "# 7. Model 3: Competitive‑Aware Pricing\n",
        "# ---\n",
        "def model_competitive(df, comp_prices, weight=0.5):\n",
        "    df2 = df.copy()\n",
        "    df2['comp_price'] = comp_prices\n",
        "    df2['price_competitive'] = df2['price_demand'] + weight * (df2['comp_price'] - df2['price_demand'])\n",
        "    return df2\n",
        "\n",
        "# Random competitor prices example\n",
        "df_comp = model_competitive(df_demand, np.random.uniform(8,12,len(df_demand)))\n",
        "df_comp[['Timestamp','price_competitive']].head()"
      ],
      "metadata": {
        "id": "CqPKDCDjfPIN"
      },
      "execution_count": null,
      "outputs": []
    },
    {
      "cell_type": "code",
      "source": [
        "# ---\n",
        "# 8. Pathway Real‑Time Streaming Simulation (Colab Only)\n",
        "# ---\n",
        "import sys\n",
        "IN_COLAB = 'google.colab' in sys.modules\n",
        "if IN_COLAB:\n",
        "    import datetime\n",
        "    import pathway as pw\n",
        "\n",
        "    df[['Timestamp','Occupancy','Capacity']].to_csv('parking_stream.csv', index=False)\n",
        "\n",
        "    class ParkingSchema(pw.Schema):\n",
        "        Timestamp: str\n",
        "        Occupancy: int\n",
        "        Capacity: int\n",
        "\n",
        "    data = pw.demo.replay_csv(\"parking_stream.csv\", schema=ParkingSchema, input_rate=500)\n",
        "\n",
        "    fmt = \"%Y-%m-%d %H:%M:%S\"\n",
        "    data_with_time = data.with_columns(\n",
        "        t = data.Timestamp.dt.strptime(fmt),\n",
        "        day = data.Timestamp.dt.strptime(fmt).dt.strftime(\"%Y-%m-%dT00:00:00\")\n",
        "    )\n",
        "\n",
        "    delta_window = (\n",
        "        data_with_time.windowby(\n",
        "            pw.this.t,\n",
        "            instance=pw.this.day,\n",
        "            window=pw.temporal.tumbling(datetime.timedelta(days=1)),\n",
        "            behavior=pw.temporal.exactly_once_behavior()\n",
        "        )\n",
        "        .reduce(\n",
        "            t = pw.this._pw_window_end,\n",
        "            occ_max = pw.reducers.max(pw.this.Occupancy),\n",
        "            occ_min = pw.reducers.min(pw.this.Occupancy),\n",
        "            cap     = pw.reducers.max(pw.this.Capacity)\n",
        "        )\n",
        "        .with_columns(\n",
        "            price = 10 + (pw.this.occ_max - pw.this.occ_min) / pw.this.cap\n",
        "        )\n",
        "    )"
      ],
      "metadata": {
        "id": "2Xj6jfWpfeXJ"
      },
      "execution_count": null,
      "outputs": []
    },
    {
      "cell_type": "code",
      "source": [
        "import bokeh.plotting\n",
        "import panel as pn\n",
        "pn.extension()\n",
        "\n",
        "def price_plotter(source):\n",
        "  fig = bokeh.plotting.figure(\n",
        "            height=400,\n",
        "            width=800,\n",
        "            title=\"Pathway: Daily Parking Price\",\n",
        "            x_axis_type=\"datetime\"\n",
        "        )\n",
        "  fig.line(\"t\", \"price\", source=source, line_width=2, color=\"navy\")\n",
        "  fig.circle(\"t\", \"price\", source=source, size=6, color=\"red\")\n",
        "  return fig\n",
        "\n",
        "\n",
        "viz = delta_window.plot(price_plotter, sorting_col=\"t\")\n",
        "pn.Column(viz).servable()"
      ],
      "metadata": {
        "id": "VEtco_J1kWA4"
      },
      "execution_count": null,
      "outputs": []
    },
    {
      "cell_type": "code",
      "source": [
        "# Final cell: run the pipeline\n",
        "%%capture --no-display\n",
        "pw.run()"
      ],
      "metadata": {
        "id": "M_XiLKDifg8L"
      },
      "execution_count": null,
      "outputs": []
    }
  ]
}